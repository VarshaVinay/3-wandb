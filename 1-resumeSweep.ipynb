{
  "cells": [
    {
      "cell_type": "markdown",
      "metadata": {},
      "source": [
        "To Corey Schafer and Sendex. Thank you"
      ]
    },
    {
      "cell_type": "markdown",
      "metadata": {},
      "source": [
        "Install wandb"
      ]
    },
    {
      "cell_type": "code",
      "execution_count": null,
      "metadata": {},
      "outputs": [],
      "source": [
        "%pip install wandb"
      ]
    },
    {
      "cell_type": "code",
      "execution_count": 28,
      "metadata": {},
      "outputs": [],
      "source": [
        "import wandb"
      ]
    },
    {
      "cell_type": "code",
      "execution_count": 29,
      "metadata": {},
      "outputs": [],
      "source": [
        "import os\n",
        "os.environ['WANDB_NOTEBOOK_NAME'] = '1-resumeSweep.ipynb'"
      ]
    },
    {
      "cell_type": "code",
      "execution_count": 30,
      "metadata": {},
      "outputs": [],
      "source": [
        "my_sweep_config = {\n",
        "    \"name\": \"my-first-sweep\",\n",
        "    \"metric\": {\"name\": \"accuracy\", \"goal\": \"maximize\"},\n",
        "    \"method\": \"grid\",\n",
        "    \"parameters\": {\n",
        "        \"a\": {\n",
        "            \"values\": [1, 2]\n",
        "        },\n",
        "    }\n",
        "}\n",
        "\n",
        "# print('sweep_configuration: ', sweep_configuration)"
      ]
    },
    {
      "cell_type": "code",
      "execution_count": null,
      "metadata": {},
      "outputs": [],
      "source": [
        "#clear previous sweep\n",
        "wandb.finish()"
      ]
    },
    {
      "cell_type": "code",
      "execution_count": null,
      "metadata": {},
      "outputs": [],
      "source": [
        "\n",
        "\n",
        "# create a wandb sweep with sweep configuration you need\n",
        "print('1 - Creating a sweep id with the sweep configuration')\n",
        "print('1A - sweep id')\n",
        "\n",
        "user_name = \"VarshaLalapura\"\n",
        "project_name = \"resumeWandb\"\n",
        "display_name = \"experiment-resume_back\"\n",
        "\n",
        "#initializing wandb\n",
        "# wandb.init(entity=user, project=project, name=display_name)\n",
        "# wandb.init(entity = user_name, project=project_name, name=display_name)\n",
        "wandb.init(project=project_name, name=display_name)\n",
        "\n",
        "my_sweep_id = wandb.sweep(sweep= my_sweep_config, project=project_name)\n",
        "\n",
        "print('1B - sweep configuration: ', my_sweep_config)\n",
        "print()"
      ]
    },
    {
      "cell_type": "code",
      "execution_count": 33,
      "metadata": {},
      "outputs": [],
      "source": [
        "def my_train_func():\n",
        "    print()\n",
        "    print('---Start of train func---')\n",
        "    # generate wandb_id\n",
        "    print()\n",
        "    print('A - Generating wandb id')\n",
        "    my_id = wandb.util.generate_id()\n",
        "    print('my_wandb_id: ', my_id)\n",
        "    print()\n",
        "\n",
        "    # initialize the tool with the id and resume back feature\n",
        "    print('B - Initializing wandb with the wandb id generated and its resume back feature')\n",
        "    wandb.init(id=my_id, resume=\"allow\")\n",
        "    print()\n",
        "\n",
        "    ## read the current value of parameter \"a\" from wandb.config\n",
        "    print('C - Reading the current value of parameter a from wandb.config')\n",
        "    a = wandb.config.a\n",
        "    print('current value of parameter a: ', a)\n",
        "    print()\n",
        "\n",
        "    ## log the metrics \n",
        "    print('D - log the evaluation metrics')\n",
        "    wandb.log({\"a\": a, \"accuracy\": a + 1}, commit=False)\n",
        "    print()\n",
        "\n",
        "    print('---End of train func---')\n",
        "    print()\n",
        "\n"
      ]
    },
    {
      "cell_type": "code",
      "execution_count": null,
      "metadata": {},
      "outputs": [],
      "source": [
        "\n",
        "# run the sweep\n",
        "print('2 - Running the sweep with the sweep id created and the train func defined')\n",
        "print('2A - Agent starting the run with associated train func parameters')\n",
        "print('**********************')\n",
        "wandb.agent(sweep_id= my_sweep_id, function=my_train_func)"
      ]
    },
    {
      "cell_type": "markdown",
      "metadata": {},
      "source": [
        "Logging a new metrics"
      ]
    },
    {
      "cell_type": "code",
      "execution_count": 35,
      "metadata": {},
      "outputs": [
        {
          "name": "stdout",
          "output_type": "stream",
          "text": [
            "\n"
          ]
        },
        {
          "data": {
            "text/html": [
              "Changes to your `wandb` environment variables will be ignored because your `wandb` session has already started. For more information on how to modify your settings with `wandb.init()` arguments, please refer to <a href=\"https://wandb.me/wandb-init\" target=\"_blank\">the W&B docs</a>."
            ],
            "text/plain": [
              "<IPython.core.display.HTML object>"
            ]
          },
          "metadata": {},
          "output_type": "display_data"
        },
        {
          "name": "stderr",
          "output_type": "stream",
          "text": [
            "\u001b[34m\u001b[1mwandb\u001b[0m: \u001b[33mWARNING\u001b[0m Ignored wandb.init() arg project when running a sweep.\n"
          ]
        },
        {
          "data": {
            "text/html": [
              "Tracking run with wandb version 0.12.21"
            ],
            "text/plain": [
              "<IPython.core.display.HTML object>"
            ]
          },
          "metadata": {},
          "output_type": "display_data"
        },
        {
          "data": {
            "text/html": [
              "Run data is saved locally in <code>/home/welcome/Downloads/github-uploads/wandb/run-20220722_151032-hiak2z91</code>"
            ],
            "text/plain": [
              "<IPython.core.display.HTML object>"
            ]
          },
          "metadata": {},
          "output_type": "display_data"
        },
        {
          "data": {
            "text/html": [
              "Resuming run <strong><a href=\"https://wandb.ai/lalapura-varsha/resumeWandb/runs/hiak2z91\" target=\"_blank\">experiment-resume_back</a></strong> to <a href=\"https://wandb.ai/lalapura-varsha/resumeWandb\" target=\"_blank\">Weights & Biases</a> (<a href=\"https://wandb.me/run\" target=\"_blank\">docs</a>)<br/>Sweep page:  <a href=\"https://wandb.ai/lalapura-varsha/resumeWandb/sweeps/9okqfztp\" target=\"_blank\">https://wandb.ai/lalapura-varsha/resumeWandb/sweeps/9okqfztp</a>"
            ],
            "text/plain": [
              "<IPython.core.display.HTML object>"
            ]
          },
          "metadata": {},
          "output_type": "display_data"
        },
        {
          "name": "stdout",
          "output_type": "stream",
          "text": [
            "Resuming the sweep\n"
          ]
        }
      ],
      "source": [
        "print()\n",
        "\n",
        "wandb.init(project=project_name, name=display_name, resume = True)\n",
        "wandb.config.update({\"test_metric\": \"test_accuracy\"})\n",
        "wandb.log({\"test_accuracy\" : 20})"
      ]
    },
    {
      "cell_type": "markdown",
      "metadata": {},
      "source": [
        "wandb Finish\n"
      ]
    },
    {
      "cell_type": "code",
      "execution_count": 29,
      "metadata": {},
      "outputs": [],
      "source": [
        "wandb.finish()"
      ]
    }
  ],
  "metadata": {
    "accelerator": "GPU",
    "colab": {
      "collapsed_sections": [
        "GzjmD6a7cTXw",
        "6q_r9ZTTpNyw"
      ],
      "name": "Training.ipynb",
      "provenance": []
    },
    "kernelspec": {
      "display_name": "Python 3.6.9 64-bit",
      "language": "python",
      "name": "python3"
    },
    "language_info": {
      "codemirror_mode": {
        "name": "ipython",
        "version": 3
      },
      "file_extension": ".py",
      "mimetype": "text/x-python",
      "name": "python",
      "nbconvert_exporter": "python",
      "pygments_lexer": "ipython3",
      "version": "3.6.9"
    },
    "vscode": {
      "interpreter": {
        "hash": "31f2aee4e71d21fbe5cf8b01ff0e069b9275f58929596ceb00d14d90e3e16cd6"
      }
    }
  },
  "nbformat": 4,
  "nbformat_minor": 0
}
