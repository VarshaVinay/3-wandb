{
  "cells": [
    {
      "cell_type": "markdown",
      "metadata": {
        "id": "aWsRjAN1r_3I"
      },
      "source": [
        "# Mount Drive and pip install packages"
      ]
    },
    {
      "cell_type": "code",
      "execution_count": 1,
      "metadata": {
        "colab": {
          "base_uri": "https://localhost:8080/"
        },
        "id": "XvAbivuQsFbk",
        "outputId": "433bfc15-d56e-4d92-bade-041d0cc8057c"
      },
      "outputs": [
        {
          "output_type": "stream",
          "name": "stdout",
          "text": [
            "Looking in indexes: https://pypi.org/simple, https://us-python.pkg.dev/colab-wheels/public/simple/\n",
            "Collecting ipython-autotime\n",
            "  Downloading ipython_autotime-0.3.1-py2.py3-none-any.whl (6.8 kB)\n",
            "Requirement already satisfied: ipython in /usr/local/lib/python3.7/dist-packages (from ipython-autotime) (5.5.0)\n",
            "Requirement already satisfied: prompt-toolkit<2.0.0,>=1.0.4 in /usr/local/lib/python3.7/dist-packages (from ipython->ipython-autotime) (1.0.18)\n",
            "Requirement already satisfied: pickleshare in /usr/local/lib/python3.7/dist-packages (from ipython->ipython-autotime) (0.7.5)\n",
            "Requirement already satisfied: simplegeneric>0.8 in /usr/local/lib/python3.7/dist-packages (from ipython->ipython-autotime) (0.8.1)\n",
            "Requirement already satisfied: decorator in /usr/local/lib/python3.7/dist-packages (from ipython->ipython-autotime) (4.4.2)\n",
            "Requirement already satisfied: traitlets>=4.2 in /usr/local/lib/python3.7/dist-packages (from ipython->ipython-autotime) (5.1.1)\n",
            "Requirement already satisfied: pygments in /usr/local/lib/python3.7/dist-packages (from ipython->ipython-autotime) (2.6.1)\n",
            "Requirement already satisfied: setuptools>=18.5 in /usr/local/lib/python3.7/dist-packages (from ipython->ipython-autotime) (57.4.0)\n",
            "Requirement already satisfied: pexpect in /usr/local/lib/python3.7/dist-packages (from ipython->ipython-autotime) (4.8.0)\n",
            "Requirement already satisfied: wcwidth in /usr/local/lib/python3.7/dist-packages (from prompt-toolkit<2.0.0,>=1.0.4->ipython->ipython-autotime) (0.2.5)\n",
            "Requirement already satisfied: six>=1.9.0 in /usr/local/lib/python3.7/dist-packages (from prompt-toolkit<2.0.0,>=1.0.4->ipython->ipython-autotime) (1.15.0)\n",
            "Requirement already satisfied: ptyprocess>=0.5 in /usr/local/lib/python3.7/dist-packages (from pexpect->ipython->ipython-autotime) (0.7.0)\n",
            "Installing collected packages: ipython-autotime\n",
            "Successfully installed ipython-autotime-0.3.1\n",
            "time: 2.72 ms (started: 2022-07-14 09:48:13 +00:00)\n"
          ]
        }
      ],
      "source": [
        "!pip install ipython-autotime\n",
        "%load_ext autotime"
      ]
    },
    {
      "cell_type": "code",
      "execution_count": 2,
      "metadata": {
        "id": "BZG3geQpsMGz",
        "colab": {
          "base_uri": "https://localhost:8080/"
        },
        "outputId": "10e079ea-43dd-49d8-c8d3-1f88ac02b183"
      },
      "outputs": [
        {
          "output_type": "stream",
          "name": "stdout",
          "text": [
            "Mounted at /content/drive\n",
            "time: 28.9 s (started: 2022-07-14 09:48:16 +00:00)\n"
          ]
        }
      ],
      "source": [
        "from google.colab import drive\n",
        "drive.mount('/content/drive')"
      ]
    },
    {
      "cell_type": "code",
      "execution_count": 3,
      "metadata": {
        "id": "VL5VJB9SsWhS",
        "colab": {
          "base_uri": "https://localhost:8080/"
        },
        "outputId": "4742cd60-aee9-442a-e5b5-726bcc46d5db"
      },
      "outputs": [
        {
          "output_type": "stream",
          "name": "stdout",
          "text": [
            "drive  sample_data\n",
            "time: 114 ms (started: 2022-07-14 09:48:50 +00:00)\n"
          ]
        }
      ],
      "source": [
        "import os\n",
        "!ls"
      ]
    },
    {
      "cell_type": "code",
      "execution_count": 4,
      "metadata": {
        "colab": {
          "base_uri": "https://localhost:8080/"
        },
        "id": "KQq7upHgsaDE",
        "outputId": "1d6b070a-7b82-4e64-bdd1-e787d2a96bd2"
      },
      "outputs": [
        {
          "output_type": "stream",
          "name": "stdout",
          "text": [
            "edgeml_tf  Features_dev.gsheet\trequirements-gpu.txt  wandb\n",
            "time: 524 ms (started: 2022-07-14 09:48:53 +00:00)\n"
          ]
        }
      ],
      "source": [
        "os.chdir('/content/drive/MyDrive/March2022/tf/')\n",
        "!ls"
      ]
    },
    {
      "cell_type": "code",
      "execution_count": null,
      "metadata": {
        "colab": {
          "base_uri": "https://localhost:8080/"
        },
        "id": "ZUHFDt2psnNy",
        "outputId": "966d74c8-0ff7-4ef9-eb31-38deec78dab1"
      },
      "outputs": [
        {
          "output_type": "stream",
          "name": "stdout",
          "text": [
            "Looking in indexes: https://pypi.org/simple, https://us-python.pkg.dev/colab-wheels/public/simple/\n",
            "Collecting antlr4-python3-runtime==4.7\n",
            "  Downloading antlr4-python3-runtime-4.7.tar.gz (110 kB)\n",
            "\u001b[K     |████████████████████████████████| 110 kB 32.3 MB/s \n",
            "\u001b[?25hRequirement already satisfied: jupyter==1.0.0 in /usr/local/lib/python3.7/dist-packages (from -r requirements-gpu.txt (line 2)) (1.0.0)\n",
            "Collecting numpy==1.16.4\n",
            "  Downloading numpy-1.16.4-cp37-cp37m-manylinux1_x86_64.whl (17.3 MB)\n",
            "\u001b[K     |████████████████████████████████| 17.3 MB 28.1 MB/s \n",
            "\u001b[?25hCollecting pandas==0.23.4\n",
            "  Downloading pandas-0.23.4-cp37-cp37m-manylinux1_x86_64.whl (8.8 MB)\n",
            "\u001b[K     |████████████████████████████████| 8.8 MB 30.1 MB/s \n",
            "\u001b[?25hCollecting scikit-learn==0.19.2\n",
            "  Downloading scikit_learn-0.19.2-cp37-cp37m-manylinux1_x86_64.whl (4.9 MB)\n",
            "\u001b[K     |████████████████████████████████| 4.9 MB 71.0 MB/s \n",
            "\u001b[?25hCollecting scipy==1.1.0\n",
            "  Downloading scipy-1.1.0-cp37-cp37m-manylinux1_x86_64.whl (31.2 MB)\n",
            "\u001b[K     |████████████████████████████████| 31.2 MB 1.2 MB/s \n",
            "\u001b[?25hCollecting tensorflow-gpu==1.15.4\n",
            "  Downloading tensorflow_gpu-1.15.4-cp37-cp37m-manylinux2010_x86_64.whl (411.0 MB)\n",
            "\u001b[K     |▍                               | 5.1 MB 59.7 MB/s eta 0:00:07"
          ]
        }
      ],
      "source": [
        "pip install -r requirements-gpu.txt"
      ]
    },
    {
      "cell_type": "code",
      "execution_count": null,
      "metadata": {
        "id": "4d_cXpUy3ntC",
        "colab": {
          "base_uri": "https://localhost:8080/"
        },
        "outputId": "dad87090-d931-4890-c894-451a1869373f"
      },
      "outputs": [
        {
          "output_type": "stream",
          "name": "stdout",
          "text": [
            "usage: settings.py [-h] --dataset\n",
            "                   {DSA,SPHAR,Opportunity,Pamap2,Skoda,Hospital}\n",
            "                   [--architecture {Fast,Attension,Transformer}] -trdir\n",
            "                   TRAINDATADIR -tedir TESTDATADIR\n",
            "                   [-c {FastGRNN,FastRNN,BasicRNN,UGRNN,GRU,LSTM,GORU}]\n",
            "                   [-mdir MODELDIR] [-id INPUTDIMS] -hd HIDDENDIMS -e EPOCHS\n",
            "                   -bs BATCHSIZE -lr LEARNINGRATE [-rW WRANK] [-rU URANK]\n",
            "                   [-sW SW] [-sU SU] [-unl UPDATE_NL] [-gnl GATE_NL]\n",
            "                   [-dS DECAYSTEP] [-dR DECAYRATE] [-oF OUTFILE] -opt\n",
            "                   {Adam,Momentum Nesterov,Gradient DescentAdadelta,RMS prop}\n",
            "                   -r RANK\n",
            "settings.py: error: the following arguments are required: -trdir/--trainDataDir, -tedir/--testDataDir, -r/--rank\n",
            "time: 432 ms (started: 2022-07-12 10:16:39 +00:00)\n"
          ]
        }
      ],
      "source": [
        "!python /content/drive/MyDrive/March2022/RegularTrainingExperiments/settings.py --dataset DSA -dir /content/drive/MyDrive/March2022/data_preparation/data/1dsa -hd 8 -e 10 -bs 100 -lr 0.01 -opt Adam -ddir /content/drive/MyDrive/March2022/data_preparation/data/1dsa"
      ]
    },
    {
      "cell_type": "code",
      "execution_count": null,
      "metadata": {
        "colab": {
          "base_uri": "https://localhost:8080/"
        },
        "id": "vwN9KpEwtBwf",
        "outputId": "fa8ead42-dbad-4031-bf7f-e0607d9bdb4d"
      },
      "outputs": [
        {
          "output_type": "stream",
          "name": "stdout",
          "text": [
            "python3: can't open file '/content/drive/MyDrive/March2022/RegularTrainingExperiments/my_sweep3.py': [Errno 2] No such file or directory\n"
          ]
        }
      ],
      "source": [
        "# --dataset [\"DSA\", \"SPHAR\", \"Opportunity\", \"Pamap2\", \"Skoda\", \"Hospital\"]\n",
        "# --trainDataDir  '/content/drive/MyDrive/March2022/data_preparation/data/2sphar' \n",
        "# [1dsa, 2sphar, 4more -> /content/drive/MyDrive/March2022/data_preparation/data/4more/4moreDatasetPrep/dataDir/hospital \n",
        "# [hospital, opportunity, pamap2, skoda]]\n",
        "# --testDataDir \n",
        "# -hd 32 -e 3 -bs 1000 -lr 0.0001 -opt 'RMS prop' \n",
        "# -r True \n",
        "# -rU 6 -rW 6 \n",
        "# -sW .2 -sU .2\n",
        "\n",
        "!python /content/drive/MyDrive/March2022/RegularTrainingExperiments/my_sweep3.py --dataset \"SPHAR\" -trdir '/content/drive/MyDrive/March2022/data_preparation/data/2sphar' -tedir '/content/drive/MyDrive/March2022/data_preparation/data/2sphar' -hd 32 -e 3 -bs 1000 -lr 0.0001 -opt 'RMS prop' -r True # -rU 6 -rW 6 # -sW .2 -sU .2"
      ]
    },
    {
      "cell_type": "markdown",
      "source": [
        ""
      ],
      "metadata": {
        "id": "iCeFse8WOpOA"
      }
    },
    {
      "cell_type": "markdown",
      "metadata": {
        "id": "GzjmD6a7cTXw"
      },
      "source": [
        "# Testing"
      ]
    },
    {
      "cell_type": "code",
      "execution_count": null,
      "metadata": {
        "id": "p9VVSW7QcShU",
        "colab": {
          "base_uri": "https://localhost:8080/"
        },
        "outputId": "8fa3e499-b2aa-4244-fb6c-57bcd2af34e3"
      },
      "outputs": [
        {
          "output_type": "stream",
          "name": "stdout",
          "text": [
            "args:  Namespace(cell='BasicRNN', data_dir='/content/drive/MyDrive/March2022/data_preparation/data/2sphar/', gate_nl='sigmoid', model_dir='/content/drive/MyDrive/March2022/data_preparation/data/2sphar/BasicRNNResults/2022-06-25T06-43-12', numClasses=6, rank=True, update_nl='tanh')\n",
            "True\n",
            "sigmoid tanh\n",
            "/content/drive/MyDrive/March2022/data_preparation/data/2sphar/BasicRNNResults/2022-06-25T06-43-12\n",
            "modelDir:  /content/drive/MyDrive/March2022/data_preparation/data/2sphar/BasicRNNResults/2022-06-25T06-43-12\n",
            "Test set details\n",
            "\n",
            "dataDir:  /content/drive/MyDrive/March2022/data_preparation/data/2sphar/\n",
            "xPath:  /content/drive/MyDrive/March2022/data_preparation/data/2sphar/X_test.npy\n",
            "yPath:  /content/drive/MyDrive/March2022/data_preparation/data/2sphar/Y_test.npy\n",
            "myX.shape:  (1030, 128, 9)\n",
            "myY.shape:  (1030, 6)\n",
            "\n",
            "(1030, 1152)\n",
            "(1030,)\n",
            "Dimensions\n",
            "inputDims:  9\n",
            "<class 'float'>\n",
            "timeSteps:  128.0\n",
            "hidden.shape (32,)\n",
            "c_state.shape:  (32,)\n",
            "shape of logits:  (1030, 6)\n",
            "shape of predictions:  (1030,)\n",
            "shape of logits:  (1030, 6)\n",
            "shape of predictions:  (1030,)\n",
            "0.7543689320388349\n",
            "acc_fold:  0.7543689320388349\n",
            "recall_fold:  0.7395424814206226\n",
            "precision_fold:  0.7449067558974679\n",
            "f1_fold:  0.7396726464101445\n",
            "Accuracy[0.7544] Precision0.7449 Recall[0.7395] F1[0.7397]]\n",
            "0.7543689320388349 0.7449067558974679 0.7395424814206226 0.7396726464101445\n",
            "______________________________________________________\n",
            "Am inside getConfusionMatrix\n",
            "len(predicted): 1030\n",
            "range(len(predicted):  range(0, 1030)\n",
            "[[ 96.  46.  45.   0.   0.   0.]\n",
            " [ 40.  91.  22.   0.   0.   0.]\n",
            " [ 28.   8.  84.   0.   0.   0.]\n",
            " [  0.   0.   0. 165.  22.   0.]\n",
            " [  1.   0.   0.  41. 148.   0.]\n",
            " [  0.   0.   0.   0.   0. 193.]]\n",
            "(6, 6)\n",
            "|True->|***********\n",
            "range(0, 6)\n",
            "      0|      1|      2|      3|      4|      5|Precision|\n",
            "|------|-------|-------|-------|-------|-------|-------|---------|\n",
            "|     0|     96|     46|     45|      0|      0|      0|  0.51337|\n",
            "|     1|     40|     91|     22|      0|      0|      0|  0.59477|\n",
            "|     2|     28|      8|     84|      0|      0|      0|  0.70000|\n",
            "|     3|      0|      0|      0|    165|     22|      0|  0.88235|\n",
            "|     4|      1|      0|      0|     41|    148|      0|  0.77895|\n",
            "|     5|      0|      0|      0|      0|      0|    193|  1.00000|\n",
            "|------|-------|-------|-------|-------|-------|-------|---------|\n",
            "|Recall|0.58182|0.62759|0.55629|0.80097|0.87059|1.00000|         |\n",
            "0.5947712418300654 0.6275862068965518\n",
            "0.7449067558974679 0.7395424814206226\n",
            "0.7396726464101445 0.7543689320388349\n",
            "time: 4.75 s (started: 2022-07-12 10:16:49 +00:00)\n"
          ]
        }
      ],
      "source": [
        "!python /content/drive/MyDrive/March2022/RegularTrainingExperiments/myTesting.py -ddir '/content/drive/MyDrive/March2022/data_preparation/data/2sphar/' -mdir '/content/drive/MyDrive/March2022/data_preparation/data/2sphar/BasicRNNResults/2022-06-25T06-43-12' -c BasicRNN -r True -nC 6"
      ]
    },
    {
      "cell_type": "code",
      "source": [
        ""
      ],
      "metadata": {
        "id": "SnrO6CCeCwO_"
      },
      "execution_count": null,
      "outputs": []
    },
    {
      "cell_type": "markdown",
      "source": [
        "# Rough work\n"
      ],
      "metadata": {
        "id": "6q_r9ZTTpNyw"
      }
    },
    {
      "cell_type": "code",
      "source": [
        "import os\n",
        "os.getcwd()\n",
        "import argparse\n",
        "os.chdir('/content/drive/MyDrive/March2022/')"
      ],
      "metadata": {
        "colab": {
          "base_uri": "https://localhost:8080/"
        },
        "id": "X7RubZN0jWQq",
        "outputId": "c389fbcc-a1d0-4d36-ccaa-9355fa63c21d"
      },
      "execution_count": null,
      "outputs": [
        {
          "output_type": "stream",
          "name": "stdout",
          "text": [
            "time: 1.5 ms (started: 2022-07-12 10:16:54 +00:00)\n"
          ]
        }
      ]
    },
    {
      "cell_type": "code",
      "source": [
        "import argparse\n",
        "from RegularTrainingExperiments.settings import get_args\n",
        "\n",
        "\n",
        "# my_args, my_conf_dataset, my_conf_model = get_args()\n",
        "\n",
        "# args.path_processed = f\"./data/{args.dataset}/processed/{args.window}_{args.stride}\""
      ],
      "metadata": {
        "id": "hq_0UOqfCwmG",
        "colab": {
          "base_uri": "https://localhost:8080/"
        },
        "outputId": "c3a75cd0-a0f4-42a2-e90e-d707e20e9a19"
      },
      "execution_count": null,
      "outputs": [
        {
          "output_type": "stream",
          "name": "stdout",
          "text": [
            "time: 11.4 ms (started: 2022-07-12 10:16:54 +00:00)\n"
          ]
        }
      ]
    },
    {
      "cell_type": "code",
      "source": [
        "!python /content/drive/MyDrive/March2022/RegularTrainingExperiments/settings.py --dataset SPHAR -trdir '/content/drive/MyDrive/March2022/data_preparation/data/2sphar' -tedir '/content/drive/MyDrive/March2022/data_preparation/data/2sphar' -c BasicRNN -id 6 -hd 32 -e 3 -bs 1000 -lr 0.0001 -opt Adam"
      ],
      "metadata": {
        "id": "7qxF322QscpM",
        "colab": {
          "base_uri": "https://localhost:8080/"
        },
        "outputId": "4eb2c43b-4350-49d7-f797-52661421888b"
      },
      "execution_count": null,
      "outputs": [
        {
          "output_type": "stream",
          "name": "stdout",
          "text": [
            "usage: settings.py [-h] --dataset\n",
            "                   {DSA,SPHAR,Opportunity,Pamap2,Skoda,Hospital}\n",
            "                   [--architecture {Fast,Attension,Transformer}] -trdir\n",
            "                   TRAINDATADIR -tedir TESTDATADIR\n",
            "                   [-c {FastGRNN,FastRNN,BasicRNN,UGRNN,GRU,LSTM,GORU}]\n",
            "                   [-mdir MODELDIR] [-id INPUTDIMS] -hd HIDDENDIMS -e EPOCHS\n",
            "                   -bs BATCHSIZE -lr LEARNINGRATE [-rW WRANK] [-rU URANK]\n",
            "                   [-sW SW] [-sU SU] [-unl UPDATE_NL] [-gnl GATE_NL]\n",
            "                   [-dS DECAYSTEP] [-dR DECAYRATE] [-oF OUTFILE] -opt\n",
            "                   {Adam,Momentum Nesterov,Gradient DescentAdadelta,RMS prop}\n",
            "                   -r RANK\n",
            "settings.py: error: the following arguments are required: -r/--rank\n",
            "time: 117 ms (started: 2022-07-12 10:16:54 +00:00)\n"
          ]
        }
      ]
    },
    {
      "cell_type": "code",
      "source": [
        "args.cell = BasicRNN\n",
        "modelDir1 = '/content/drive/MyDrive/March2022/data_preparation/data/2sphar/{args.cell}Results/' \n",
        "print(modelDir1)"
      ],
      "metadata": {
        "colab": {
          "base_uri": "https://localhost:8080/",
          "height": 227
        },
        "id": "gghsrMf-wZXy",
        "outputId": "755bb587-f55e-44b3-ba2e-3ff7770d8ab6"
      },
      "execution_count": null,
      "outputs": [
        {
          "output_type": "error",
          "ename": "NameError",
          "evalue": "ignored",
          "traceback": [
            "\u001b[0;31m---------------------------------------------------------------------------\u001b[0m",
            "\u001b[0;31mNameError\u001b[0m                                 Traceback (most recent call last)",
            "\u001b[0;32m<ipython-input-12-198985b94b35>\u001b[0m in \u001b[0;36m<module>\u001b[0;34m()\u001b[0m\n\u001b[0;32m----> 1\u001b[0;31m \u001b[0margs\u001b[0m\u001b[0;34m.\u001b[0m\u001b[0mcell\u001b[0m \u001b[0;34m=\u001b[0m \u001b[0mBasicRNN\u001b[0m\u001b[0;34m\u001b[0m\u001b[0;34m\u001b[0m\u001b[0m\n\u001b[0m\u001b[1;32m      2\u001b[0m \u001b[0mmodelDir1\u001b[0m \u001b[0;34m=\u001b[0m \u001b[0;34m'/content/drive/MyDrive/March2022/data_preparation/data/2sphar/{args.cell}Results/'\u001b[0m\u001b[0;34m\u001b[0m\u001b[0;34m\u001b[0m\u001b[0m\n\u001b[1;32m      3\u001b[0m \u001b[0mprint\u001b[0m\u001b[0;34m(\u001b[0m\u001b[0mmodelDir1\u001b[0m\u001b[0;34m)\u001b[0m\u001b[0;34m\u001b[0m\u001b[0;34m\u001b[0m\u001b[0m\n",
            "\u001b[0;31mNameError\u001b[0m: name 'BasicRNN' is not defined"
          ]
        },
        {
          "output_type": "stream",
          "name": "stdout",
          "text": [
            "time: 62.6 ms (started: 2022-07-12 10:16:54 +00:00)\n"
          ]
        }
      ]
    },
    {
      "cell_type": "code",
      "source": [
        "modelDir = '/content/drive/MyDrive/March2022/data_preparation/data/2sphar/UGRNNResults/2022-06-28T09-51-19'\n",
        "# print(modelDir)\n",
        "cellname = 'BasicRNN'\n",
        "print(cellname)\n",
        "modelDir1 = f'/content/drive/MyDrive/March2022/data_preparation/data/2sphar/{cellname}Results/'\n",
        "print(modelDir1)\n",
        "# /content/drive/MyDrive/March2022/data_preparation/data/2sphar/UGRNNResults/2022-06-28T09-51-19\n",
        "modelFile = max([os.path.join(modelDir1,d) for d in os.listdir(modelDir1)], key=os.path.getmtime)\n",
        "print(modelFile)\n"
      ],
      "metadata": {
        "id": "-UYXWNBgzxnQ"
      },
      "execution_count": null,
      "outputs": []
    },
    {
      "cell_type": "code",
      "source": [
        ""
      ],
      "metadata": {
        "id": "tckQbKlx1cDa"
      },
      "execution_count": null,
      "outputs": []
    },
    {
      "cell_type": "markdown",
      "source": [
        "# Rough work wandb\n"
      ],
      "metadata": {
        "id": "18Anlye21cXc"
      }
    },
    {
      "cell_type": "code",
      "source": [
        "import wandb\n",
        "\n",
        "sweep_configuration = {\n",
        "    \"name\": \"my-awesome-sweep\",\n",
        "    \"metric\": {\"name\": \"accuracy\", \"goal\": \"maximize\"},\n",
        "    \"method\": \"grid\",\n",
        "    \"parameters\": {\n",
        "        \"a\": {\n",
        "            \"values\": [1, 2]\n",
        "        },\n",
        "    }\n",
        "}\n",
        "\n",
        "def my_train_func():\n",
        "    print()\n",
        "    print('---Start of train func---')\n",
        "    # generate wandb_id\n",
        "    print()\n",
        "    print('A - Generating wandb id')\n",
        "    my_id = wandb.util.generate_id()\n",
        "    print('my_wandb_id: ', my_id)\n",
        "    print()\n",
        "\n",
        "    # initialize the tool with the id and resume back feature\n",
        "    print('B - Initializing wandb with the wandb id generated and its resume back feature')\n",
        "    wandb.init(id=my_id, resume=\"allow\")\n",
        "    print()\n",
        "\n",
        "    ## read the current value of parameter \"a\" from wandb.config\n",
        "    print('C - Reading the current value of parameter a from wandb.config')\n",
        "    a = wandb.config.a\n",
        "    print('current value of parameter a: ', a)\n",
        "    print()\n",
        "\n",
        "    ## log the metrics \n",
        "    print('D - log the evaluation metrics')\n",
        "    wandb.log({\"a\": a, \"accuracy\": a + 1}, commit=False)\n",
        "    print()\n",
        "\n",
        "    print('---End of train func---')\n",
        "    print()\n",
        "\n",
        "# create a wandb sweep with sweep configuration you need\n",
        "print('1 - Creating a sweep id with the sweep configuration')\n",
        "print('1A - sweep id')\n",
        "sweep_id = wandb.sweep(sweep_configuration, project=\"resumeSweepNLogAnotherMetric\" )\n",
        "print('1B - sweep configuration: ', sweep_configuration)\n",
        "print()\n",
        "\n",
        "# run the sweep\n",
        "print('2 - Running the sweep with the sweep id created and the train func defined')\n",
        "print('2A - Agent starting the run with associated train func parameters')\n",
        "print('**********************')\n",
        "wandb.agent(sweep_id, function=my_train_func)\n",
        "\n",
        "print()\n",
        "# resume the sweep\n",
        "print()\n",
        "print('Resuming the sweep')\n",
        "test_config = {\n",
        "    \"name\": \"my-awesome-sweep\",\n",
        "    \"metric\": {\"name\": \"test_accuracy\"}\n",
        "    }\n",
        "\n",
        "wandb.init(config = test_config, resume=True)\n",
        "\n",
        "\n",
        "wandb.log({\"test_accuracy\" : 20})\n",
        "\n",
        "\n",
        "#wandb.agent(sweep_id, function=my_train_func, resume=True)"
      ],
      "metadata": {
        "id": "29q4PNTZ0vSM"
      },
      "execution_count": null,
      "outputs": []
    }
  ],
  "metadata": {
    "accelerator": "GPU",
    "colab": {
      "name": "Training.ipynb",
      "provenance": [],
      "collapsed_sections": [
        "GzjmD6a7cTXw",
        "6q_r9ZTTpNyw"
      ]
    },
    "kernelspec": {
      "display_name": "Python 3",
      "name": "python3"
    },
    "language_info": {
      "name": "python"
    }
  },
  "nbformat": 4,
  "nbformat_minor": 0
}